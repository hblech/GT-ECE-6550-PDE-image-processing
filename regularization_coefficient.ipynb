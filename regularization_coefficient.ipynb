{
 "cells": [
  {
   "cell_type": "code",
   "execution_count": 1,
   "metadata": {},
   "outputs": [],
   "source": [
    "import numpy as np\n",
    "import matplotlib.pyplot as plt\n",
    "import matplotlib as mpl"
   ]
  },
  {
   "cell_type": "code",
   "execution_count": 2,
   "metadata": {},
   "outputs": [],
   "source": [
    "mpl.rcParams['figure.dpi'] = 144.0\n",
    "mpl.rcParams['figure.figsize'] = [9.0, 6.0]"
   ]
  },
  {
   "cell_type": "code",
   "execution_count": 8,
   "metadata": {},
   "outputs": [],
   "source": [
    "x = np.linspace(0,1, 100)\n",
    "y = np.zeros_like(x)\n",
    "C = np.arange(0,7)/6.0"
   ]
  },
  {
   "cell_type": "code",
   "execution_count": 5,
   "metadata": {},
   "outputs": [],
   "source": [
    "y[:int(100*C)] = np.sin(np.pi*x[:int(100*C)]/2/C)\n",
    "y[int(100*C):] = 1.0"
   ]
  },
  {
   "cell_type": "code",
   "execution_count": 21,
   "metadata": {
    "scrolled": true
   },
   "outputs": [],
   "source": [
    "plt.figure()\n",
    "for i in range(C.shape[0]):\n",
    "    y = np.zeros_like(x)\n",
    "    y[:int(100*C[i])] = np.sin(np.pi*x[:int(100*C[i])]/2/C[i])\n",
    "    y[int(100*C[i]):] = 1.0\n",
    "    y[0]=0\n",
    "    plt.plot(x, y, label=r'$C = '+str(i)+'/6$')\n",
    "plt.legend()\n",
    "plt.xlabel(r'$|\\nabla e|$ values')\n",
    "plt.ylabel(r'$\\tau_1$ values')\n",
    "plt.tight_layout()\n",
    "plt.savefig('tau_1_values.png', dpi='figure')\n",
    "plt.close()"
   ]
  },
  {
   "cell_type": "code",
   "execution_count": 11,
   "metadata": {},
   "outputs": [],
   "source": [
    "x = np.linspace(0,1, 100)\n",
    "y = np.zeros_like(x)"
   ]
  },
  {
   "cell_type": "code",
   "execution_count": 12,
   "metadata": {},
   "outputs": [],
   "source": [
    "C = 0.7\n",
    "y[:int(100*C)] = (1-np.cos(np.pi*x[:int(100*C)]/C))/2\n",
    "y[int(100*C):] = 1.0"
   ]
  },
  {
   "cell_type": "code",
   "execution_count": 13,
   "metadata": {},
   "outputs": [
    {
     "data": {
      "text/plain": [
       "[<matplotlib.lines.Line2D at 0x7f0e3b4db160>]"
      ]
     },
     "execution_count": 13,
     "metadata": {},
     "output_type": "execute_result"
    },
    {
     "data": {
      "image/png": "[encoded data removed]",
      "text/plain": [
       "<Figure size 432x288 with 1 Axes>"
      ]
     },
     "metadata": {},
     "output_type": "display_data"
    }
   ],
   "source": [
    "plt.plot(x, y)"
   ]
  },
  {
   "cell_type": "code",
   "execution_count": 20,
   "metadata": {
    "scrolled": true
   },
   "outputs": [],
   "source": [
    "plt.figure()\n",
    "for i in range(C.shape[0]):\n",
    "    y = np.zeros_like(x)\n",
    "    y[:int(100*C[i])] = (1-np.cos(np.pi*x[:int(100*C[i])]/C[i]))/2\n",
    "    y[int(100*C[i]):] = 1.0\n",
    "    y[0]=0\n",
    "    plt.plot(x, y, label=r'$C = '+str(i)+'/6$')\n",
    "plt.legend()\n",
    "plt.xlabel(r'$|\\nabla e|$ values')\n",
    "plt.ylabel(r'$\\tau_2$ values')\n",
    "plt.tight_layout()\n",
    "plt.savefig('tau_2_values.png', dpi='figure')\n",
    "plt.close()"
   ]
  },
  {
   "cell_type": "code",
   "execution_count": null,
   "metadata": {},
   "outputs": [],
   "source": []
  }
 ],
 "metadata": {
  "kernelspec": {
   "display_name": "Python 3",
   "language": "python",
   "name": "python3"
  },
  "language_info": {
   "codemirror_mode": {
    "name": "ipython",
    "version": 3
   },
   "file_extension": ".py",
   "mimetype": "text/x-python",
   "name": "python",
   "nbconvert_exporter": "python",
   "pygments_lexer": "ipython3",
   "version": "3.5.2"
  }
 },
 "nbformat": 4,
 "nbformat_minor": 2
}
