{
 "cells": [
  {
   "cell_type": "code",
   "execution_count": 1,
   "metadata": {},
   "outputs": [],
   "source": [
    "import numpy as np\n",
    "import matplotlib.pyplot as plt\n",
    "import matplotlib as mpl\n",
    "from glob import glob\n",
    "import os"
   ]
  },
  {
   "cell_type": "raw",
   "metadata": {},
   "source": [
    "mpl.rcParams\n",
    "plt.style.available"
   ]
  },
  {
   "cell_type": "code",
   "execution_count": 2,
   "metadata": {},
   "outputs": [],
   "source": [
    "#mpl.rcParams['figure.dpi'] = 144.0\n",
    "mpl.rcParams['figure.figsize'] = [9.0, 6.0]"
   ]
  },
  {
   "cell_type": "code",
   "execution_count": 3,
   "metadata": {},
   "outputs": [
    {
     "data": {
      "text/plain": [
       "(151,)"
      ]
     },
     "execution_count": 3,
     "metadata": {},
     "output_type": "execute_result"
    }
   ],
   "source": [
    "iterations = np.arange(0,751,5)\n",
    "iterations.shape"
   ]
  },
  {
   "cell_type": "code",
   "execution_count": 4,
   "metadata": {},
   "outputs": [],
   "source": [
    "directory = 'tau_1'\n",
    "files = glob(directory+'/*/experiences.txt')"
   ]
  },
  {
   "cell_type": "code",
   "execution_count": 5,
   "metadata": {},
   "outputs": [],
   "source": [
    "mse_ = np.zeros((len(files), len(iterations)))\n",
    "ssim_ = np.zeros((len(files), len(iterations)))\n",
    "psnr_ = np.zeros((len(files), len(iterations)))"
   ]
  },
  {
   "cell_type": "code",
   "execution_count": 6,
   "metadata": {},
   "outputs": [],
   "source": [
    "for i in range(len(files)):\n",
    "    mse, ssim, psnr = np.loadtxt(files[i], delimiter='\\t', usecols=(1,2,3), unpack=True)\n",
    "    mse_[i] = mse/150000.0\n",
    "    ssim_[i] = ssim\n",
    "    psnr_[i] = psnr\n",
    "\n",
    "mse_ = mse_.T\n",
    "ssim_ = ssim_.T\n",
    "psnr_ = psnr_.T"
   ]
  },
  {
   "cell_type": "code",
   "execution_count": 7,
   "metadata": {},
   "outputs": [],
   "source": [
    "plt.figure()\n",
    "for i in range(mse_.shape[1]):\n",
    "    plt.plot(iterations, mse_[:,i], label='C = '+str(i)+'/6')\n",
    "plt.legend()\n",
    "plt.xlabel('Iterations')\n",
    "plt.ylabel('Mean Square Error')\n",
    "plt.tight_layout()\n",
    "plt.savefig(directory+'/summary_mse.png', dpi='figure')\n",
    "plt.close()"
   ]
  },
  {
   "cell_type": "code",
   "execution_count": 8,
   "metadata": {},
   "outputs": [],
   "source": [
    "plt.figure()\n",
    "for i in range(mse_.shape[1]):\n",
    "    plt.plot(iterations[120:], mse_[120:,i], label='C = '+str(i)+'/6')\n",
    "plt.legend()\n",
    "plt.xlabel('Iterations')\n",
    "plt.ylabel('Mean Square Error')\n",
    "plt.tight_layout()\n",
    "plt.savefig(directory+'/zoom_mse.png', dpi='figure')\n",
    "plt.close()"
   ]
  },
  {
   "cell_type": "code",
   "execution_count": 9,
   "metadata": {},
   "outputs": [],
   "source": [
    "plt.figure()\n",
    "for i in range(ssim_.shape[1]):\n",
    "    plt.plot(iterations, ssim_[:,i], label='C = '+str(i)+'/6')\n",
    "plt.legend()\n",
    "plt.xlabel('Iterations')\n",
    "plt.ylabel('Structural Similarity Index')\n",
    "plt.tight_layout()\n",
    "plt.savefig(directory+'/summary_ssim.png', dpi='figure')\n",
    "plt.close()"
   ]
  },
  {
   "cell_type": "code",
   "execution_count": 10,
   "metadata": {},
   "outputs": [],
   "source": [
    "plt.figure()\n",
    "for i in range(ssim_.shape[1]):\n",
    "    plt.plot(iterations[120:], ssim_[120:,i], label='C = '+str(i)+'/6')\n",
    "plt.legend()\n",
    "plt.xlabel('Iterations')\n",
    "plt.ylabel('Structural Similarity Index')\n",
    "plt.tight_layout()\n",
    "plt.savefig(directory+'/zoom_ssim.png', dpi='figure')\n",
    "plt.close()"
   ]
  },
  {
   "cell_type": "code",
   "execution_count": 11,
   "metadata": {},
   "outputs": [],
   "source": [
    "plt.figure()\n",
    "for i in range(psnr_.shape[1]):\n",
    "    plt.plot(iterations, psnr_[:,i], label='C = '+str(i)+'/6')\n",
    "plt.legend()\n",
    "plt.xlabel('Iterations')\n",
    "plt.ylabel('Peak Signal to Noise Ratio')\n",
    "plt.tight_layout()\n",
    "plt.savefig(directory+'/summary_psnr.png', dpi='figure')\n",
    "plt.close()"
   ]
  },
  {
   "cell_type": "code",
   "execution_count": 12,
   "metadata": {},
   "outputs": [],
   "source": [
    "plt.figure()\n",
    "for i in range(psnr_.shape[1]):\n",
    "    plt.plot(iterations[120:], psnr_[120:,i], label='C = '+str(i)+'/6')\n",
    "plt.legend()\n",
    "plt.xlabel('Iterations')\n",
    "plt.ylabel('Peak Signal to Noise Ratio')\n",
    "plt.tight_layout()\n",
    "plt.savefig(directory+'/zoom_psnr.png', dpi='figure')\n",
    "plt.close()"
   ]
  },
  {
   "cell_type": "code",
   "execution_count": null,
   "metadata": {},
   "outputs": [],
   "source": []
  }
 ],
 "metadata": {
  "kernelspec": {
   "display_name": "Python 3",
   "language": "python",
   "name": "python3"
  },
  "language_info": {
   "codemirror_mode": {
    "name": "ipython",
    "version": 3
   },
   "file_extension": ".py",
   "mimetype": "text/x-python",
   "name": "python",
   "nbconvert_exporter": "python",
   "pygments_lexer": "ipython3",
   "version": "3.5.2"
  }
 },
 "nbformat": 4,
 "nbformat_minor": 2
}
