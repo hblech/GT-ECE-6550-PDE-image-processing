{
 "cells": [
  {
   "cell_type": "markdown",
   "metadata": {},
   "source": [
    "## Performance comparison\n",
    "\n",
    "In this notebook, we measure the performance gain between pure Python methods and compiled Python methods.\n",
    "\n",
    "To compile the desired module, the [Pythran](https://github.com/serge-sans-paille/pythran) module was used. It converts Python methods to C++11 templated methods and compiles them. It is advised to optimise the compilation for the local architecture, even if the default compilation parameters already yield significant improvements in execution time. For example, we can easily get multi-threaded methods using OpenMP instructions. For more details, see [pythran documentation](http://pythran.readthedocs.io)."
   ]
  },
  {
   "cell_type": "raw",
   "metadata": {},
   "source": [
    "# Instruction used to compile the modules in utils/ folder. \n",
    "\n",
    "!pythran -fopenmp -O3 -march=native -o utils/cpp_grad_utils_compiled.so utils/cpp_grad_utils.py"
   ]
  },
  {
   "cell_type": "code",
   "execution_count": 1,
   "metadata": {},
   "outputs": [],
   "source": [
    "import numpy as np\n",
    "import cv2\n",
    "from skimage.measure import compare_ssim, compare_mse, compare_psnr\n",
    "\n",
    "from utils.super_resolution_utils import *\n",
    "from utils import cpp_grad_utils\n",
    "from utils import cpp_grad_utils_compiled\n",
    "\n",
    "import time"
   ]
  },
  {
   "cell_type": "code",
   "execution_count": 2,
   "metadata": {},
   "outputs": [],
   "source": [
    "# Open original image and extract region of interest\n",
    "im_bgr = cv2.imread('hedgehog.jpg')\n",
    "im = im_bgr.astype(np.float)\n",
    "\n",
    "roi = im[500:900, 800:1300]\n",
    "#roi = im\n",
    "\n",
    "# Set variables used to generate low resolution images\n",
    "q = 2\n",
    "nb_lr_im = 8\n",
    "noise = 0.1*(np.max(roi) - np.min(roi))\n",
    "\n",
    "# Set variables for super resolution\n",
    "iterations = 200\n",
    "l = 6\n",
    "beta = 0.8\n",
    "dt = 1/(np.abs(l)*max(4/beta, 2))\n",
    "version_tau = 1\n",
    "C = 1/6\n",
    "exp_file = 'experiences.txt'"
   ]
  },
  {
   "cell_type": "code",
   "execution_count": 3,
   "metadata": {},
   "outputs": [],
   "source": [
    "# Create small images and store them somewhere on disk. Should work for gray and color images\n",
    "lr_images = createLRSamples(roi, nb_lr_images=nb_lr_im, q=q, noise_variance=noise)\n",
    "\n",
    "for i in range(lr_images.shape[0]):\n",
    "    cv2.imwrite('lr_images/lr_'+str(i)+'.png', lr_images[i])\n",
    "cv2.imwrite('roi.png', roi)\n",
    "\n",
    "# Create new empty HR image. Should work for color and gray images\n",
    "hr_dims = get_hr_dims(lr_images.shape, q)\n",
    "hr_image = np.zeros(hr_dims)\n",
    "\n",
    "comparison_gradient = 0\n",
    "denoising_gradient = 0\n",
    "smoothing_gradient = 0\n",
    "tau = 0"
   ]
  },
  {
   "cell_type": "code",
   "execution_count": 4,
   "metadata": {},
   "outputs": [],
   "source": [
    "# Begins the experiment report\n",
    "with open(exp_file, 'a') as f:\n",
    "    f.write(\"#Conditions de l'expérience:\\n\")\n",
    "    f.write(\"#q={}, nb_lr_images={}, dt = {}, lambda={}, beta={}, nb_iterations={}, version_tau={}, C={}\\n\".format(q, nb_lr_im, dt, l, beta, iterations, version_tau, C))"
   ]
  },
  {
   "cell_type": "code",
   "execution_count": 5,
   "metadata": {},
   "outputs": [
    {
     "ename": "ValueError",
     "evalue": "The algorithm is diverging",
     "output_type": "error",
     "traceback": [
      "\u001b[0;31m---------------------------------------------------------------------------\u001b[0m",
      "\u001b[0;31mValueError\u001b[0m                                Traceback (most recent call last)",
      "\u001b[0;32m<ipython-input-5-0db306a66b42>\u001b[0m in \u001b[0;36m<module>\u001b[0;34m()\u001b[0m\n\u001b[1;32m     15\u001b[0m             \u001b[0;32mif\u001b[0m\u001b[0;34m(\u001b[0m\u001b[0mmse\u001b[0m \u001b[0;34m>\u001b[0m \u001b[0;36m1e8\u001b[0m\u001b[0;34m)\u001b[0m\u001b[0;34m:\u001b[0m\u001b[0;34m\u001b[0m\u001b[0m\n\u001b[1;32m     16\u001b[0m                 \u001b[0mf\u001b[0m\u001b[0;34m.\u001b[0m\u001b[0mwrite\u001b[0m\u001b[0;34m(\u001b[0m\u001b[0;34m\"Experience diverging, stopping now\\n\"\u001b[0m\u001b[0;34m)\u001b[0m\u001b[0;34m\u001b[0m\u001b[0m\n\u001b[0;32m---> 17\u001b[0;31m                 \u001b[0;32mraise\u001b[0m \u001b[0mValueError\u001b[0m\u001b[0;34m(\u001b[0m\u001b[0;34m\"The algorithm is diverging\"\u001b[0m\u001b[0;34m)\u001b[0m\u001b[0;34m\u001b[0m\u001b[0m\n\u001b[0m\u001b[1;32m     18\u001b[0m             \u001b[0;32mif\u001b[0m\u001b[0;34m(\u001b[0m\u001b[0mnp\u001b[0m\u001b[0;34m.\u001b[0m\u001b[0misnan\u001b[0m\u001b[0;34m(\u001b[0m\u001b[0mmse\u001b[0m\u001b[0;34m)\u001b[0m \u001b[0;32mor\u001b[0m \u001b[0mnp\u001b[0m\u001b[0;34m.\u001b[0m\u001b[0misnan\u001b[0m\u001b[0;34m(\u001b[0m\u001b[0mssim\u001b[0m\u001b[0;34m)\u001b[0m \u001b[0;32mor\u001b[0m \u001b[0mnp\u001b[0m\u001b[0;34m.\u001b[0m\u001b[0misnan\u001b[0m\u001b[0;34m(\u001b[0m\u001b[0mpsnr\u001b[0m\u001b[0;34m)\u001b[0m\u001b[0;34m)\u001b[0m\u001b[0;34m:\u001b[0m\u001b[0;34m\u001b[0m\u001b[0m\n\u001b[1;32m     19\u001b[0m                 \u001b[0mf\u001b[0m\u001b[0;34m.\u001b[0m\u001b[0mwrite\u001b[0m\u001b[0;34m(\u001b[0m\u001b[0;34m\"Computation error\\n\"\u001b[0m\u001b[0;34m)\u001b[0m\u001b[0;34m\u001b[0m\u001b[0m\n",
      "\u001b[0;31mValueError\u001b[0m: The algorithm is diverging"
     ]
    }
   ],
   "source": [
    "t1 = time.time()\n",
    "\n",
    "for iteration in range(iterations+1):\n",
    "\n",
    "    # Save result\n",
    "    if iteration % 5 == 0:\n",
    "        mse = compare_mse(roi, hr_image)\n",
    "        ssim = compare_ssim(roi, hr_image, multichannel=True)\n",
    "        psnr = compare_psnr(roi, hr_image, data_range=255.0)\n",
    "        name = 'hr_images/hr_'+str(iteration)+'.png'\n",
    "        cv2.imwrite(name, hr_image)\n",
    "        with open(exp_file, 'a') as f:\n",
    "            f.write(\"{}\\t{}\\t{}\\t{}\\t{}\\t{}\\n\".format(time.time() - t1, iteration, mse, ssim, psnr, name))\n",
    "            if(mse > 1e8):\n",
    "                f.write(\"Experience diverging, stopping now\\n\")\n",
    "                raise ValueError(\"The algorithm is diverging\")\n",
    "            if(np.isnan(mse) or np.isnan(ssim) or np.isnan(psnr)):\n",
    "                f.write(\"Computation error\\n\")\n",
    "                raise ValueError(\"Computation error\")\n",
    "\n",
    "\n",
    "    # Compute directional order 1 and 2 gradients\n",
    "    ### In order to use the uncompiled methods, replace cpp_grad_utils_compiled by cpp_grad_utils\n",
    "    Ix = cpp_grad_utils_compiled.grad_x(hr_image)\n",
    "    Iy = cpp_grad_utils_compiled.grad_y(hr_image)\n",
    "    Ixy = cpp_grad_utils_compiled.grad_y(Ix)\n",
    "    Ixx = cpp_grad_utils_compiled.grad_xx(hr_image)\n",
    "    Iyy = cpp_grad_utils_compiled.grad_yy(hr_image)\n",
    "\n",
    "    #Compute data fidelity energy gradient, denoising energy gradient, smoothing energy gradient\n",
    "    comparison_gradient = data_fidelity_gradient_2(hr_image, lr_images, q)\n",
    "    denoising_gradient = cpp_grad_utils_compiled.TV_regularization(Ix, Iy, Ixy, Ixx, Iyy, beta)\n",
    "    smoothing_gradient = cpp_grad_utils_compiled.heat_gradient(Ix, Iy, Ixy, Ixx, Iyy)\n",
    "\n",
    "    #Compute weighting factor\n",
    "    if version_tau == 1:\n",
    "        tau = cpp_grad_utils_compiled.compute_tau_1(Ix, Iy, C)\n",
    "    elif version_tau == 2:\n",
    "        tau = cpp_grad_utils_compiled.compute_tau_2(Ix, Iy)\n",
    "    elif version_tau == 3:\n",
    "        tau = cpp_grad_utils_compiled.compute_tau_3(Ix, Iy, C)\n",
    "\n",
    "    #Update high resolution image\n",
    "    hr_image -= dt*(comparison_gradient) + l*(tau*denoising_gradient + (1-tau)*smoothing_gradient)"
   ]
  },
  {
   "cell_type": "code",
   "execution_count": 6,
   "metadata": {},
   "outputs": [
    {
     "data": {
      "text/plain": [
       "15.75"
      ]
     },
     "execution_count": 6,
     "metadata": {},
     "output_type": "execute_result"
    }
   ],
   "source": [
    "63/4.0\n"
   ]
  }
 ],
 "metadata": {
  "kernelspec": {
   "display_name": "Python 3",
   "language": "python",
   "name": "python3"
  },
  "language_info": {
   "codemirror_mode": {
    "name": "ipython",
    "version": 3
   },
   "file_extension": ".py",
   "mimetype": "text/x-python",
   "name": "python",
   "nbconvert_exporter": "python",
   "pygments_lexer": "ipython3",
   "version": "3.5.2"
  }
 },
 "nbformat": 4,
 "nbformat_minor": 2
}
