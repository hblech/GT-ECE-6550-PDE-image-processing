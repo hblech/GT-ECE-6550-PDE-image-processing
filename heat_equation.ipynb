{
 "cells": [
  {
   "cell_type": "code",
   "execution_count": 1,
   "metadata": {},
   "outputs": [],
   "source": [
    "import numpy as np\n",
    "import cv2\n",
    "import matplotlib.pyplot as plt"
   ]
  },
  {
   "cell_type": "code",
   "execution_count": 2,
   "metadata": {},
   "outputs": [],
   "source": [
    "from utils import gradients, gradients_color"
   ]
  },
  {
   "cell_type": "code",
   "execution_count": 3,
   "metadata": {},
   "outputs": [
    {
     "name": "stdout",
     "output_type": "stream",
     "text": [
      "CPU times: user 1min 56s, sys: 16.5 s, total: 2min 13s\n",
      "Wall time: 2min 13s\n"
     ]
    }
   ],
   "source": [
    "%%time\n",
    "\n",
    "im_bgr = cv2.imread('hedgehog.jpg')\n",
    "#im = cv2.cvtColor(im_bgr, cv2.COLOR_BGR2GRAY)\n",
    "im = im_bgr.astype(np.float)\n",
    "\n",
    "dt = 0.4\n",
    "\n",
    "for iteration in range(100):\n",
    "    \n",
    "    It = gradients_color.heat_equation(im)\n",
    "    im += dt*It\n",
    "    \n",
    "    if iteration % 10 ==0:\n",
    "        cv2.imwrite('color_'+str(iteration)+'.jpg', im)"
   ]
  },
  {
   "cell_type": "code",
   "execution_count": null,
   "metadata": {},
   "outputs": [],
   "source": []
  },
  {
   "cell_type": "raw",
   "metadata": {},
   "source": [
    "%matplotlib notebook\n",
    "\n",
    "from mpl_toolkits.mplot3d import Axes3D\n",
    "fig = plt.figure()\n",
    "ax = fig.add_subplot(111, projection='3d')\n",
    "\n",
    "(size_x, size_y) = im.shape\n",
    "x, y = np.meshgrid(np.linspace(0,1,size_y), np.linspace(0,1,size_x))\n",
    "\n",
    "ax.plot_surface(x, y, Iy, cmap='coolwarm')"
   ]
  }
 ],
 "metadata": {
  "kernelspec": {
   "display_name": "Python 3",
   "language": "python",
   "name": "python3"
  },
  "language_info": {
   "codemirror_mode": {
    "name": "ipython",
    "version": 3
   },
   "file_extension": ".py",
   "mimetype": "text/x-python",
   "name": "python",
   "nbconvert_exporter": "python",
   "pygments_lexer": "ipython3",
   "version": "3.5.2"
  }
 },
 "nbformat": 4,
 "nbformat_minor": 2
}
