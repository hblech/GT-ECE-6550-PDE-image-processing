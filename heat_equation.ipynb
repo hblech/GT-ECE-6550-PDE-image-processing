{
 "cells": [
  {
   "cell_type": "code",
   "execution_count": 1,
   "metadata": {},
   "outputs": [],
   "source": [
    "import numpy as np\n",
    "import cv2\n",
    "import matplotlib.pyplot as plt"
   ]
  },
  {
   "cell_type": "code",
   "execution_count": 2,
   "metadata": {},
   "outputs": [],
   "source": [
    "import gradients"
   ]
  },
  {
   "cell_type": "raw",
   "metadata": {},
   "source": [
    "im_bgr = cv2.imread('hedgehog.jpg')\n",
    "im = cv2.cvtColor(im_bgr, cv2.COLOR_BGR2GRAY)\n",
    "im = im.astype(np.float)\n",
    "\n",
    "dt = 0.4\n",
    "\n",
    "for iteration in range(200):\n",
    "\n",
    "    Ix = gradients.grad_x(im)\n",
    "    Iy = gradients.grad_y(im)\n",
    "    Ixy = gradients.grad_y(Ix)\n",
    "    Ixx = gradients.grad_xx(im)\n",
    "    Iyy = gradients.grad_yy(im)\n",
    "    \n",
    "    # 100 ms per run\n",
    "    It = Ix*Ix*Iyy - 2*Ix*Iy*Ixy + Iy*Iy*Ixx\n",
    "    denominator = Ix*Ix+Iy*Iy\n",
    "    mask = np.logical_not(denominator == 0)\n",
    "    It[mask] /= denominator[mask]\n",
    "    \n",
    "    im += dt*It\n",
    "    \n",
    "    if iteration % 10 ==0:\n",
    "        cv2.imwrite(str(iteration)+'_iterations.jpg', im)"
   ]
  },
  {
   "cell_type": "markdown",
   "metadata": {},
   "source": [
    "Without Pythran compilation : 118 seconds\n",
    "\n",
    "With Pythran compilation: 77 seconds\n",
    "\n",
    "About 35% improvement in speed !"
   ]
  },
  {
   "cell_type": "raw",
   "metadata": {},
   "source": [
    "%matplotlib notebook\n",
    "\n",
    "from mpl_toolkits.mplot3d import Axes3D\n",
    "fig = plt.figure()\n",
    "ax = fig.add_subplot(111, projection='3d')\n",
    "\n",
    "(size_x, size_y) = im.shape\n",
    "x, y = np.meshgrid(np.linspace(0,1,size_y), np.linspace(0,1,size_x))\n",
    "\n",
    "ax.plot_surface(x, y, Iy, cmap='coolwarm')"
   ]
  },
  {
   "cell_type": "code",
   "execution_count": 3,
   "metadata": {},
   "outputs": [
    {
     "name": "stdout",
     "output_type": "stream",
     "text": [
      "CPU times: user 57.9 s, sys: 7.56 s, total: 1min 5s\n",
      "Wall time: 1min 5s\n"
     ]
    }
   ],
   "source": [
    "%%time\n",
    "\n",
    "im_bgr = cv2.imread('hedgehog.jpg')\n",
    "im = cv2.cvtColor(im_bgr, cv2.COLOR_BGR2GRAY)\n",
    "im = im.astype(np.float)\n",
    "\n",
    "dt = 0.4\n",
    "\n",
    "for iteration in range(200):\n",
    "    \n",
    "    It = gradients.heat_equation(im)\n",
    "    im += dt*It\n",
    "    \n",
    "    if iteration % 10 ==0:\n",
    "        cv2.imwrite(str(iteration)+'_iterations.jpg', im)"
   ]
  },
  {
   "cell_type": "markdown",
   "metadata": {},
   "source": [
    "Simple compilation of heat equation with Pythran: 65-66 seconds\n",
    "\n",
    "Optimized compilation of heat equation with Pythran: 68-69 seconds"
   ]
  },
  {
   "cell_type": "code",
   "execution_count": null,
   "metadata": {},
   "outputs": [],
   "source": []
  }
 ],
 "metadata": {
  "kernelspec": {
   "display_name": "Python 3",
   "language": "python",
   "name": "python3"
  },
  "language_info": {
   "codemirror_mode": {
    "name": "ipython",
    "version": 3
   },
   "file_extension": ".py",
   "mimetype": "text/x-python",
   "name": "python",
   "nbconvert_exporter": "python",
   "pygments_lexer": "ipython3",
   "version": "3.5.2"
  }
 },
 "nbformat": 4,
 "nbformat_minor": 2
}
