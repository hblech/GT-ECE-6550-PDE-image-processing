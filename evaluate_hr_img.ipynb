{
 "cells": [
  {
   "cell_type": "code",
   "execution_count": 31,
   "metadata": {},
   "outputs": [],
   "source": [
    "import numpy as np\n",
    "import cv2\n",
    "import matplotlib.pyplot as plt\n",
    "from skimage.measure import compare_ssim, compare_mse, compare_psnr"
   ]
  },
  {
   "cell_type": "code",
   "execution_count": 32,
   "metadata": {},
   "outputs": [],
   "source": [
    "im_bgr = cv2.imread('hedgehog.jpg')\n",
    "im = cv2.cvtColor(im_bgr, cv2.COLOR_BGR2GRAY).astype(np.float)"
   ]
  },
  {
   "cell_type": "code",
   "execution_count": 35,
   "metadata": {},
   "outputs": [],
   "source": [
    "# Generate fake result image from superresolution\n",
    "im_result = cv2.imread('stable/50_iterations.jpg')\n",
    "im_result = cv2.cvtColor(im_result, cv2.COLOR_BGR2GRAY).astype(np.float)"
   ]
  },
  {
   "cell_type": "code",
   "execution_count": 48,
   "metadata": {},
   "outputs": [
    {
     "name": "stdout",
     "output_type": "stream",
     "text": [
      "39.279126679345275 0.3619771086489503 32.189185376225915\n"
     ]
    }
   ],
   "source": [
    "mse = compare_mse(im, im_result)\n",
    "ssim = compare_ssim(im, im_result)\n",
    "psnr = compare_psnr(im, im_result, data_range=255.0)\n",
    "print(mse, ssim, psnr)"
   ]
  },
  {
   "cell_type": "code",
   "execution_count": null,
   "metadata": {},
   "outputs": [],
   "source": []
  }
 ],
 "metadata": {
  "kernelspec": {
   "display_name": "Python 3",
   "language": "python",
   "name": "python3"
  },
  "language_info": {
   "codemirror_mode": {
    "name": "ipython",
    "version": 3
   },
   "file_extension": ".py",
   "mimetype": "text/x-python",
   "name": "python",
   "nbconvert_exporter": "python",
   "pygments_lexer": "ipython3",
   "version": "3.5.2"
  }
 },
 "nbformat": 4,
 "nbformat_minor": 2
}
